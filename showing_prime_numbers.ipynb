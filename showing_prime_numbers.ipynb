{
  "cells": [
    {
      "cell_type": "markdown",
      "metadata": {
        "id": "view-in-github",
        "colab_type": "text"
      },
      "source": [
        "<a href=\"https://colab.research.google.com/github/MD-Arifujjaman-Rakib/my-first-project-help-me-to-grow/blob/main/showing_prime_numbers.ipynb\" target=\"_parent\"><img src=\"https://colab.research.google.com/assets/colab-badge.svg\" alt=\"Open In Colab\"/></a>"
      ]
    },
    {
      "cell_type": "code",
      "source": [
        "#Python program to show prime numbers between 1 to 200\n",
        "inial_num= 1\n",
        "final_num= 200\n",
        "ctr=0\n",
        "print(\"Prime numbers between\",inial_num, \"and\",final_num,\"are: \")\n",
        "for num in range (inial_num, final_num):\n",
        "  if(num > 1):\n",
        "    for i in range(2, num):\n",
        "      if(num%i)==0:\n",
        "        break\n",
        "    else:\n",
        "      print(num)\n",
        "      ctr += 1\n",
        "print(\"Total Prime numbers between 1 to 200 are: \",ctr)       \n",
        "\n"
      ],
      "metadata": {
        "colab": {
          "base_uri": "https://localhost:8080/"
        },
        "id": "Rsb7mX4UroXR",
        "outputId": "7f9bcaf1-ea2e-4a90-bbef-c0603668329b"
      },
      "execution_count": null,
      "outputs": [
        {
          "output_type": "stream",
          "name": "stdout",
          "text": [
            "Prime numbers between 1 and 200 are: \n",
            "2\n",
            "3\n",
            "5\n",
            "7\n",
            "11\n",
            "13\n",
            "17\n",
            "19\n",
            "23\n",
            "29\n",
            "31\n",
            "37\n",
            "41\n",
            "43\n",
            "47\n",
            "53\n",
            "59\n",
            "61\n",
            "67\n",
            "71\n",
            "73\n",
            "79\n",
            "83\n",
            "89\n",
            "97\n",
            "101\n",
            "103\n",
            "107\n",
            "109\n",
            "113\n",
            "127\n",
            "131\n",
            "137\n",
            "139\n",
            "149\n",
            "151\n",
            "157\n",
            "163\n",
            "167\n",
            "173\n",
            "179\n",
            "181\n",
            "191\n",
            "193\n",
            "197\n",
            "199\n",
            "Total Prime numbers between 1 to 200 are:  46\n"
          ]
        }
      ]
    }
  ],
  "metadata": {
    "colab": {
      "collapsed_sections": [],
      "toc_visible": true,
      "provenance": [],
      "include_colab_link": true
    },
    "kernelspec": {
      "display_name": "Python 3",
      "name": "python3"
    }
  },
  "nbformat": 4,
  "nbformat_minor": 0
}